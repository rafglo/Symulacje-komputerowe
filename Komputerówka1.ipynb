{
 "cells": [
  {
   "cell_type": "markdown",
   "id": "a9e912a0-233a-4e71-808c-ddb7bf8394a8",
   "metadata": {},
   "source": [
    "Komputerówka - wersja 1. Do zdobycia - 33p.\n",
    "\n",
    "Proszę nie tracić czasu na fail-safe'y dla parametrów funkcji, kod ma po prostu działać.\n",
    "\n",
    "Jeśli kod skompiluje się wam w trakcie komputerówki to jego optymalnośc jest wystarczająca.\n",
    "\n",
    "Proszę czytać ze zrozumieniem i jeśli to podane używać konkretnych metod. Kod powinien być czysty i bez zbędnych elementów.\n",
    "\n",
    "Zabronione jest korzystanie z chatbotów, urządzeń elektronicznych poza pojedynczym komputerem, komunikatorów wszelkiego typu (automatyczne 0 punktów bez możliwości poprawy).\n",
    "\n",
    "Przykładowe rozwiązanie:\n",
    "Zadanie X - napisz funkcję FUN($a,b$) liczącą sumę dwóch podanych liczb. Jako przykład użyj $a=1,b=2$. Prawidłowa odpowiedź to $3$."
   ]
  },
  {
   "cell_type": "code",
   "execution_count": 1,
   "id": "d9025c17",
   "metadata": {},
   "outputs": [
    {
     "name": "stdout",
     "output_type": "stream",
     "text": [
      "wynik to 3\n"
     ]
    }
   ],
   "source": [
    "def FUN(a,b):\n",
    "    return a+b\n",
    "a, b = 1, 2\n",
    "print('wynik to ' + str(FUN(a,b)))"
   ]
  },
  {
   "cell_type": "markdown",
   "id": "e4074691-a0d1-4b73-a87b-d2d96e860f74",
   "metadata": {},
   "source": [
    "Zadanie 1 [8p] - Niech $X$ będzie zmienną losową typu ciągłego o dodatnim nośniku i gęstości $f(x)=(4x)^{-1/2}e^{-\\sqrt{x}}$ (uogólniony rozkład Gamma). Napisz funkcję GEN($N$) przyjmującą liczbę naturalną $N$ i zwracającą wektor długości $N$ zawierający próbę IID zmiennych $X_i\\stackrel{D}{=}X$. Użyj metody odwrotnej dystrybuanty. Za jej pomocą wygeneruj próbę wielkości $N=10^7$, którą wykorzystaj do stworzenia histogramu porównanego z gęstością teoretyczną $f(x)$. Zadbaj o odpowiednie opisy na wykresie."
   ]
  },
  {
   "cell_type": "code",
   "execution_count": 5,
   "id": "6c9c4f6a",
   "metadata": {},
   "outputs": [],
   "source": [
    "import numpy as np\n",
    "import scipy"
   ]
  },
  {
   "cell_type": "markdown",
   "id": "a1fa4ec9",
   "metadata": {},
   "source": [
    "Zadanie 2 [11p] - Niech $W^1_t$, $W^2_t$ będą dwoma niezależnymi ruchami Browna (procesami Wienera). Napisz funkcję FUN($R$, $\\Delta t$, N) przyjmującą krok dyskretyzacji czasu $\\Delta t$, $R>0$ oraz próbę Monte-Carlo $N$, która zwróci wyestymowaną średnią zmiennej $T$ będącej czasem pierwszego wyjścia procesu dwuwymiarowego procesu $(W^1_t,W^2_t)$ poza koło $K(R,0)$ o promieniu $R$ i środku $0$, czyli\n",
    "$$ T=\\inf_{t\\geq 0}\\{t:(W^1_t,W^2_t)\\in K(R,0)^C\\}.$$ Jako przykładu użyj parametrów $R=\\frac{1}{2}$, $\\Delta t=10^{-4}$, $N=10^4$. Poprawny wynik to $\\frac{1}{2}R^2=\\frac{1}{8}$"
   ]
  },
  {
   "cell_type": "code",
   "execution_count": 2,
   "id": "e184750b",
   "metadata": {},
   "outputs": [],
   "source": [
    "def FUN(R, dt, N):\n",
    "    times = np.zeros(N)\n",
    "    for i in range(N):\n",
    "        x = 0\n",
    "        y = 0\n",
    "        t = 0\n",
    "        while x**2 + y**2 <= R**2:\n",
    "            x += np.random.normal(0, 1) * np.sqrt(dt)\n",
    "            y += np.random.normal(0, 1) * np.sqrt(dt)\n",
    "            t += dt\n",
    "        times[i] = t\n",
    "    return np.sum(times) / N"
   ]
  },
  {
   "cell_type": "code",
   "execution_count": 4,
   "id": "ad885408",
   "metadata": {},
   "outputs": [
    {
     "name": "stdout",
     "output_type": "stream",
     "text": [
      "0.12841203999999784\n"
     ]
    }
   ],
   "source": [
    "print(FUN(1/2, 10**(-4), 10000))"
   ]
  },
  {
   "cell_type": "markdown",
   "id": "ff0ffda0-1eda-4436-9a0c-7a28f4cc9755",
   "metadata": {},
   "source": [
    "Zadanie 3 [14p] - Napisz funkcję ESTRISK($u,c,\\lambda,\\mu,T,M$) estymującą prawdopodobieństwo ruiny klasycznej w czasie $T$ procesu\n",
    "$$ X_t=u+ct-\\sum_{i=0}^{N_t}Y_i, $$\n",
    "gdzie $N_t$ to niejednorodny proces Poissona o intensywnosci $\\lambda(t)$, $Y_i\\sim Exp(\\mu)$, $E(Y_i)=\\mu$, $u,c>0$ a $M$ to wielkośc próby Monte-Carlo. Wyestymuj prawdopodobieństwo ruiny klasycznej dla parametrów $u=5$,$c=3$, $T=1$, $\\lambda(t)=\\sin^2(\\pi t)+\\ln(1+3t)$, $\\mu=5$, $M=10^4$. Do generowania $N_t$ możesz użyć dowolnej metody poznanej na zajęciach. Poprawna odpowiedź to około $0.365$."
   ]
  },
  {
   "cell_type": "code",
   "execution_count": 27,
   "id": "355d3a5c",
   "metadata": {},
   "outputs": [],
   "source": [
    "from scipy.interpolate import interp1d\n",
    "u = 5\n",
    "c = 3\n",
    "T = 1\n",
    "lambda_func = lambda t: np.sin(np.pi*t)**2 + np.log(1 + 3*t)\n",
    "mi = 5\n",
    "n = 10**4 #liczba punktów do szacowania funkcji odwrotnej\n",
    "\n",
    "def niejednorodny_proces_poissona(lambda_func, T):\n",
    "    lambda2 = scipy.integrate.quad(lambda_func, 0, T)[0]\n",
    "    k = np.random.poisson(lambda2)\n",
    "    xs = np.linspace(0, T, 1000)\n",
    "    M = max(lambda_func(xs))\n",
    "\n",
    "    skoki = np.zeros(k)\n",
    "    i = 0\n",
    "    while i < k:\n",
    "        ux = np.random.uniform(0, T)\n",
    "        uy = np.random.uniform(0, M)\n",
    "        if uy < lambda_func(ux):\n",
    "            skoki[i] = ux\n",
    "            i += 1\n",
    "            continue\n",
    "        else:\n",
    "            continue\n",
    "\n",
    "    skoki.sort()\n",
    "    return k, skoki"
   ]
  },
  {
   "cell_type": "code",
   "execution_count": 42,
   "id": "b170102b",
   "metadata": {},
   "outputs": [],
   "source": [
    "\n",
    "def simulate_poisson_nonhomogeneous(lambda_func, T):\n",
    "    # Metoda odrzutowa (thinning method) do generowania niejednorodnego procesu Poissona\n",
    "    max_lambda = max(lambda_func(t) for t in np.linspace(0, T, 1000))\n",
    "    times = np.zeros(n)\n",
    "    t = 0\n",
    "    i = 0\n",
    "    while t < T:\n",
    "        t += np.random.exponential(1 / max_lambda)\n",
    "        if t < T and np.random.uniform(0, 1) < lambda_func(t) / max_lambda:\n",
    "            times[i] = t\n",
    "            i += 1\n",
    "    return len(times),times"
   ]
  },
  {
   "cell_type": "code",
   "execution_count": 46,
   "id": "9b22bbbc",
   "metadata": {},
   "outputs": [],
   "source": [
    "def proces_ruiny(eta, u, c, T, lambda_func):\n",
    "    num_events, event_times = niejednorodny_proces_poissona(lambda_func, T)\n",
    "    etas = np.random.exponential(eta, num_events)\n",
    "    etas_cumsum = np.cumsum(etas)\n",
    "    R = u + c*event_times - etas_cumsum\n",
    "    try:\n",
    "        if np.min(R) < 0:\n",
    "            return 1\n",
    "        else:\n",
    "            return 0\n",
    "    except:\n",
    "        pass"
   ]
  },
  {
   "cell_type": "code",
   "execution_count": 47,
   "id": "498cb030",
   "metadata": {},
   "outputs": [],
   "source": [
    "def ruin_prob_estim(eta, u, c, T, lambda_func, mc):\n",
    "    if_ruin = np.zeros(mc)\n",
    "    for i in range(mc):\n",
    "        if_ruin[i] = proces_ruiny(eta, u, c, T, lambda_func)\n",
    "    return sum(if_ruin)/len(if_ruin)"
   ]
  },
  {
   "cell_type": "code",
   "execution_count": 71,
   "id": "a4f05a7f",
   "metadata": {},
   "outputs": [
    {
     "name": "stdout",
     "output_type": "stream",
     "text": [
      "(1, array([0.83668368]))\n"
     ]
    }
   ],
   "source": [
    "print(niejednorodny_proces_poissona(lambda_func, T))"
   ]
  },
  {
   "cell_type": "code",
   "execution_count": 77,
   "id": "22836327",
   "metadata": {},
   "outputs": [
    {
     "name": "stdout",
     "output_type": "stream",
     "text": [
      "(10000, array([0.59930625, 0.        , 0.        , ..., 0.        , 0.        ,\n",
      "       0.        ]))\n"
     ]
    }
   ],
   "source": [
    "print(simulate_poisson_nonhomogeneous(lambda_func, T))"
   ]
  },
  {
   "cell_type": "code",
   "execution_count": 80,
   "id": "6345228b",
   "metadata": {},
   "outputs": [
    {
     "name": "stdout",
     "output_type": "stream",
     "text": [
      "nan\n"
     ]
    }
   ],
   "source": [
    "print(ruin_prob_estim(mi, u, c, T, lambda_func, 1000))"
   ]
  }
 ],
 "metadata": {
  "kernelspec": {
   "display_name": "Python 3 (ipykernel)",
   "language": "python",
   "name": "python3"
  },
  "language_info": {
   "codemirror_mode": {
    "name": "ipython",
    "version": 3
   },
   "file_extension": ".py",
   "mimetype": "text/x-python",
   "name": "python",
   "nbconvert_exporter": "python",
   "pygments_lexer": "ipython3",
   "version": "3.8.0"
  }
 },
 "nbformat": 4,
 "nbformat_minor": 5
}
