{
 "cells": [
  {
   "cell_type": "code",
   "execution_count": 2,
   "metadata": {},
   "outputs": [
    {
     "name": "stdout",
     "output_type": "stream",
     "text": [
      "Pozycja igły 1: [0.9271169000998778, 0.8574123833660084]\n",
      "[False]\n",
      "Pozycja igły 2: [0.11538661146523299, 1.1647060668143845]\n",
      "[True]\n",
      "Pozycja igły 3: [0.2145931787962636, 0.036827944916836934]\n",
      "[True]\n",
      "Pozycja igły 4: [0.9415859837784643, 0.6181892777095954]\n",
      "[False]\n",
      "Pozycja igły 5: [0.2866168165387626, 0.7357382816644148]\n",
      "[True]\n",
      "Pozycja igły 6: [0.865708973307702, 0.09329386427497173]\n",
      "[False]\n",
      "Pozycja igły 7: [0.8852348876592571, 0.2325065527230274]\n",
      "[False]\n"
     ]
    },
    {
     "data": {
      "image/png": "[encoded data removed]",
      "text/plain": [
       "<Figure size 640x480 with 1 Axes>"
      ]
     },
     "metadata": {},
     "output_type": "display_data"
    },
    {
     "name": "stdout",
     "output_type": "stream",
     "text": [
      "None\n"
     ]
    }
   ],
   "source": [
    "#zad4plot\n",
    "\n",
    "import numpy as np\n",
    "import matplotlib.pyplot as plt\n",
    "\n",
    "def buffon(l, num_of_points):\n",
    "    X = []  \n",
    "    kąt = []  \n",
    "    pozycja_igły = [] \n",
    "\n",
    "    for i in range(num_of_points):\n",
    "        X.append(np.random.uniform(0, 1))  \n",
    "        kąt.append(np.random.uniform(0, np.pi / 2))  \n",
    "\n",
    "        pozycja_igły.append([X[i], kąt[i]])\n",
    "\n",
    "    plot_igieł(pozycja_igły, l)\n",
    "\n",
    "    \n",
    "\n",
    "def sprawdzenie(pozycja_igły, l):\n",
    "    brakprzecięcia = []\n",
    "\n",
    "    for igła in pozycja_igły:\n",
    "        x = igła[0]\n",
    "        kąt = igła[1]\n",
    "        a = 0.5 * l * np.cos(kąt)\n",
    "\n",
    "        brakprzecięcia.append(a > x or a < (1 - x))\n",
    "\n",
    "    return brakprzecięcia\n",
    "\n",
    "def plot_igieł(pozycja_igły, l):\n",
    "    fig, ax = plt.subplots()\n",
    "\n",
    "    for i, igła in enumerate(pozycja_igły):\n",
    "        x = igła[0]\n",
    "        kąt = igła[1]\n",
    "        x_end = x + 0.5 * l * np.cos(kąt)\n",
    "        y_end = 0.5 * l * np.sin(kąt)\n",
    "        print(f\"Pozycja igły {i+1}: {igła}\")\n",
    "        print(sprawdzenie([igła], l))\n",
    "        if sprawdzenie([igła], l)[0]:\n",
    "            ax.plot([x, x_end], [0, y_end], color='green')\n",
    "        else:\n",
    "            ax.plot([x, x_end], [0, y_end], color='red')\n",
    "\n",
    "    for i in range(len(pozycja_igły)):\n",
    "        ax.plot([i, i], [-1, 2], color='black', linestyle='-')\n",
    "\n",
    "    ax.set_xlim(-1, 2)\n",
    "    ax.set_ylim(-1, 1)\n",
    "    ax.set_aspect('equal', adjustable='box')\n",
    "\n",
    "    plt.show()\n",
    "\n",
    "print(buffon(0.5, 7)) \n"
   ]
  }
 ],
 "metadata": {
  "kernelspec": {
   "display_name": "Python 3",
   "language": "python",
   "name": "python3"
  },
  "language_info": {
   "codemirror_mode": {
    "name": "ipython",
    "version": 3
   },
   "file_extension": ".py",
   "mimetype": "text/x-python",
   "name": "python",
   "nbconvert_exporter": "python",
   "pygments_lexer": "ipython3",
   "version": "3.10.7"
  }
 },
 "nbformat": 4,
 "nbformat_minor": 2
}
