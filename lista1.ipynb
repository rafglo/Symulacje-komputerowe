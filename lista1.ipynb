{
 "cells": [
  {
   "cell_type": "code",
   "execution_count": 18,
   "metadata": {},
   "outputs": [],
   "source": [
    "def conversion(x, b):\n",
    "    if x == 0:\n",
    "        return \"0\"\n",
    "    else:\n",
    "        result = \"\"\n",
    "        while x > 0:\n",
    "            rem = x % b\n",
    "            x //= b\n",
    "            result += str(rem)\n",
    "        return result[::-1]"
   ]
  },
  {
   "cell_type": "code",
   "execution_count": 37,
   "metadata": {},
   "outputs": [
    {
     "name": "stdout",
     "output_type": "stream",
     "text": [
      "1101\n"
     ]
    }
   ],
   "source": [
    "print(conversion(13,2))"
   ]
  },
  {
   "cell_type": "code",
   "execution_count": 21,
   "metadata": {},
   "outputs": [],
   "source": [
    "def reversing(x):\n",
    "    x_rev = x[::-1]\n",
    "    return \"0.\" + x_rev\n"
   ]
  },
  {
   "cell_type": "code",
   "execution_count": 38,
   "metadata": {},
   "outputs": [
    {
     "name": "stdout",
     "output_type": "stream",
     "text": [
      "0.1011\n"
     ]
    }
   ],
   "source": [
    "a = reversing(conversion(13,2))\n",
    "print(a)"
   ]
  },
  {
   "cell_type": "code",
   "execution_count": 43,
   "metadata": {},
   "outputs": [],
   "source": [
    "def reconversion(x, b):\n",
    "    result = 0\n",
    "    for i in range(2, len(x)):\n",
    "        result += int(x[i]) * b**(-(int(i)-1))\n",
    "    return result"
   ]
  },
  {
   "cell_type": "code",
   "execution_count": 44,
   "metadata": {},
   "outputs": [
    {
     "name": "stdout",
     "output_type": "stream",
     "text": [
      "0.6875\n"
     ]
    }
   ],
   "source": [
    "print(reconversion(a,2))"
   ]
  },
  {
   "cell_type": "code",
   "execution_count": 45,
   "metadata": {},
   "outputs": [],
   "source": [
    "def van_der_corput_sequence(n, b):\n",
    "    result = []\n",
    "    for i in range(n+1):\n",
    "        result.append(reconversion(reversing(conversion(i, b)), b))\n",
    "    return result"
   ]
  },
  {
   "cell_type": "code",
   "execution_count": 51,
   "metadata": {},
   "outputs": [
    {
     "data": {
      "image/png": "[encoded data removed]",
      "text/plain": [
       "<Figure size 640x480 with 1 Axes>"
      ]
     },
     "metadata": {},
     "output_type": "display_data"
    }
   ],
   "source": [
    "import matplotlib.pyplot as plt\n",
    "\n",
    "plt.hist(van_der_corput_sequence(1000, 2))\n",
    "plt.title(\"Liczby kwazilosowe z ciągu van der Corputa\")\n",
    "plt.show()"
   ]
  },
  {
   "cell_type": "code",
   "execution_count": 52,
   "metadata": {},
   "outputs": [],
   "source": [
    "import math\n",
    "def halton_sequence(n, b, k):\n",
    "    if math.gcd(b,k) == 1:\n",
    "        return [van_der_corput_sequence(n,b), van_der_corput_sequence(n,k)]\n",
    "    else:\n",
    "        raise ValueError(\"Bazy muszą być względnie pierwsze\")"
   ]
  },
  {
   "cell_type": "code",
   "execution_count": 61,
   "metadata": {},
   "outputs": [],
   "source": [
    "def pi_halton(n,b,k):\n",
    "    xs, ys = halton_sequence(n,b,k)\n",
    "    sum1 = 0\n",
    "    for i in range(len(xs)):\n",
    "        for j in range(len(ys)):\n",
    "            if xs[i]**2 + ys[j]**2 < 1:\n",
    "                sum1 += 1\n",
    "    return 4 * sum1 / n**2"
   ]
  },
  {
   "cell_type": "code",
   "execution_count": 63,
   "metadata": {},
   "outputs": [
    {
     "name": "stdout",
     "output_type": "stream",
     "text": [
      "3.14399956\n"
     ]
    }
   ],
   "source": [
    "print(pi_halton(10000, 2, 3))"
   ]
  }
 ],
 "metadata": {
  "kernelspec": {
   "display_name": "Python 3",
   "language": "python",
   "name": "python3"
  },
  "language_info": {
   "codemirror_mode": {
    "name": "ipython",
    "version": 3
   },
   "file_extension": ".py",
   "mimetype": "text/x-python",
   "name": "python",
   "nbconvert_exporter": "python",
   "pygments_lexer": "ipython3",
   "version": "3.8.0"
  }
 },
 "nbformat": 4,
 "nbformat_minor": 2
}
