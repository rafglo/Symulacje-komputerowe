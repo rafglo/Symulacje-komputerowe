{
 "cells": [
  {
   "cell_type": "markdown",
   "metadata": {},
   "source": [
    "Zadanie 1"
   ]
  },
  {
   "cell_type": "code",
   "execution_count": 1,
   "metadata": {},
   "outputs": [],
   "source": [
    "import numpy as np"
   ]
  },
  {
   "cell_type": "code",
   "execution_count": 8,
   "metadata": {},
   "outputs": [],
   "source": [
    "def polar_box_muller(n):\n",
    "    samples = []\n",
    "    while len(samples) < n:\n",
    "        u1, u2 = np.random.uniform(-1,1,2)\n",
    "        v1, v2 = 2*u1 - 1, 2*u2 - 1\n",
    "        w = v1**2 + v2**2\n",
    "        if w < 1:\n",
    "            y = np.sqrt(-2*np.log(w)/w)\n",
    "            x1, x2 = v1 * y, v2 * y\n",
    "            samples.append(x1)\n",
    "            samples.append(x2)\n",
    "    return samples\n"
   ]
  },
  {
   "cell_type": "code",
   "execution_count": 9,
   "metadata": {},
   "outputs": [
    {
     "name": "stdout",
     "output_type": "stream",
     "text": [
      "[-1.1359446536869544, -0.4825178858947871, 0.37722816845714563, -0.35521776859177523, 2.2143120166672303, -0.5183281565211018, 0.7537016451590348, -0.4449329358316424, 1.4507863640089877, -0.36549080279874635]\n"
     ]
    }
   ],
   "source": [
    "print(polar_box_muller(10))"
   ]
  }
 ],
 "metadata": {
  "kernelspec": {
   "display_name": "Python 3",
   "language": "python",
   "name": "python3"
  },
  "language_info": {
   "codemirror_mode": {
    "name": "ipython",
    "version": 3
   },
   "file_extension": ".py",
   "mimetype": "text/x-python",
   "name": "python",
   "nbconvert_exporter": "python",
   "pygments_lexer": "ipython3",
   "version": "3.8.0"
  }
 },
 "nbformat": 4,
 "nbformat_minor": 2
}
